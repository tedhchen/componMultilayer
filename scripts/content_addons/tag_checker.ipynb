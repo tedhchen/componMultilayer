{
 "cells": [
  {
   "cell_type": "markdown",
   "id": "b010d235-545e-42c0-b4a9-16f95f505fb3",
   "metadata": {},
   "source": [
    "## Notebook to Check Climate Label Mismatches"
   ]
  },
  {
   "cell_type": "code",
   "execution_count": 1,
   "id": "b509f461-90f0-4cc6-841a-d47e8ed90e8c",
   "metadata": {
    "tags": []
   },
   "outputs": [
    {
     "data": {
      "text/plain": [
       "['C:\\\\Users\\\\tc\\\\git\\\\componMultilayer\\\\scripts\\\\config.ini']"
      ]
     },
     "execution_count": 1,
     "metadata": {},
     "output_type": "execute_result"
    }
   ],
   "source": [
    "import configparser, csv\n",
    "import pandas as pd\n",
    "\n",
    "# Reading in configuation\n",
    "params = configparser.ConfigParser()\n",
    "params.read('config.ini')\n",
    "params.read(params['path']['root'] + 'scripts\\config.ini')"
   ]
  },
  {
   "cell_type": "code",
   "execution_count": 2,
   "id": "5219f69f-922c-489c-9bc3-d4842475897f",
   "metadata": {
    "tags": []
   },
   "outputs": [],
   "source": [
    "country = 'au'"
   ]
  },
  {
   "cell_type": "code",
   "execution_count": 3,
   "id": "b96a04cd-2a31-495b-8ad0-bb6564e3669d",
   "metadata": {
    "tags": []
   },
   "outputs": [],
   "source": [
    "df = pd.read_csv(params['data']['componTwitter'] + country + '_edgelist.csv', \n",
    "                 dtype = {'id':'str', 'author_id':'str', 'ref_id':'str', 'ref_author_id':'str', \n",
    "                          'created_at':'str', 'text':'str', 'type':'str', 'ref_text':'str'})"
   ]
  },
  {
   "cell_type": "code",
   "execution_count": 4,
   "id": "c1efa67f-1475-40d3-9537-60703ee83387",
   "metadata": {
    "tags": []
   },
   "outputs": [
    {
     "data": {
      "text/plain": [
       "Index(['id', 'author_id', 'created_at', 'text', 'type', 'retweet_count',\n",
       "       'reply_count', 'like_count', 'quote_count', 'ref_id', 'ref_author_id',\n",
       "       'ref_text', 'ref_retweet_count', 'ref_reply_count', 'ref_like_count',\n",
       "       'ref_quote_count', 'checked_only95', 'checked_plus95'],\n",
       "      dtype='object')"
      ]
     },
     "execution_count": 4,
     "metadata": {},
     "output_type": "execute_result"
    }
   ],
   "source": [
    "df.columns"
   ]
  },
  {
   "cell_type": "code",
   "execution_count": 5,
   "id": "6dd9b298-e216-491f-9755-d1bd1712c9f4",
   "metadata": {
    "tags": []
   },
   "outputs": [],
   "source": [
    "df['rt_count'] = df.retweet_count.where(~df.retweet_count.isna(), 0) + df.ref_retweet_count.where(~df.ref_retweet_count.isna(), 0)"
   ]
  },
  {
   "cell_type": "code",
   "execution_count": 6,
   "id": "8495a450-1b4e-45c6-af40-456baf705a7d",
   "metadata": {
    "tags": []
   },
   "outputs": [],
   "source": [
    "checker = df[(df.checked_only95 == 0) & (df.checked_plus95 == 1)][['created_at', 'rt_count', 'text', 'ref_text']]"
   ]
  },
  {
   "cell_type": "code",
   "execution_count": 7,
   "id": "a064e3fc-5fbf-4bb0-8d0e-1bdd9ae9e33c",
   "metadata": {
    "tags": []
   },
   "outputs": [],
   "source": [
    "checker.to_csv(country + '_checker.csv', index = True, quoting = csv.QUOTE_NONNUMERIC)"
   ]
  },
  {
   "cell_type": "code",
   "execution_count": null,
   "id": "6f7fd644-00c7-49b1-95ae-aa18532ef5af",
   "metadata": {},
   "outputs": [],
   "source": []
  }
 ],
 "metadata": {
  "kernelspec": {
   "display_name": "Python 3 (ipykernel)",
   "language": "python",
   "name": "python3"
  },
  "language_info": {
   "codemirror_mode": {
    "name": "ipython",
    "version": 3
   },
   "file_extension": ".py",
   "mimetype": "text/x-python",
   "name": "python",
   "nbconvert_exporter": "python",
   "pygments_lexer": "ipython3",
   "version": "3.10.10"
  }
 },
 "nbformat": 4,
 "nbformat_minor": 5
}
